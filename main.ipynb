{
 "cells": [
  {
   "cell_type": "markdown",
   "id": "fdf053ac",
   "metadata": {},
   "source": [
    "Scaled Dot product atention"
   ]
  },
  {
   "cell_type": "code",
   "execution_count": 11,
   "id": "d9a83686",
   "metadata": {},
   "outputs": [],
   "source": [
    "import numpy as np\n",
    "import math\n",
    "import torch\n",
    "import torch.nn as nn\n",
    "import torch.nn.functional as F"
   ]
  },
  {
   "cell_type": "code",
   "execution_count": 12,
   "id": "99c349da",
   "metadata": {},
   "outputs": [],
   "source": [
    "seq_len = 4\n",
    "batch_size = 1\n",
    "input_dim = 512\n",
    "d_model = 512\n",
    "x = torch.randn((batch_size,seq_len,input_dim))"
   ]
  },
  {
   "cell_type": "code",
   "execution_count": 13,
   "id": "b336424e",
   "metadata": {},
   "outputs": [
    {
     "data": {
      "text/plain": [
       "torch.Size([1, 4, 512])"
      ]
     },
     "execution_count": 13,
     "metadata": {},
     "output_type": "execute_result"
    }
   ],
   "source": [
    "x.shape"
   ]
  },
  {
   "cell_type": "code",
   "execution_count": 15,
   "id": "55c293a6",
   "metadata": {},
   "outputs": [],
   "source": [
    "qkv_layer = nn.Linear(input_dim,3*d_model)"
   ]
  },
  {
   "cell_type": "code",
   "execution_count": 18,
   "id": "5c9742fd",
   "metadata": {},
   "outputs": [],
   "source": [
    "qkv = qkv_layer(x)"
   ]
  },
  {
   "cell_type": "code",
   "execution_count": 20,
   "id": "bd6a7b08",
   "metadata": {},
   "outputs": [],
   "source": [
    "num_heads = 8\n",
    "head_dim = d_model//num_heads\n",
    "qkv = qkv.reshape(batch_size,seq_len,num_heads,3*head_dim)"
   ]
  },
  {
   "cell_type": "code",
   "execution_count": 22,
   "id": "8c0d44b8",
   "metadata": {},
   "outputs": [
    {
     "data": {
      "text/plain": [
       "torch.Size([1, 8, 4, 192])"
      ]
     },
     "execution_count": 22,
     "metadata": {},
     "output_type": "execute_result"
    }
   ],
   "source": [
    "qkv = qkv.permute(0,2,1,3)\n",
    "qkv.shape"
   ]
  },
  {
   "cell_type": "code",
   "execution_count": 25,
   "id": "b9154963",
   "metadata": {},
   "outputs": [],
   "source": [
    "q, k,v = qkv.chunk(3,dim=-1)"
   ]
  },
  {
   "cell_type": "code",
   "execution_count": 30,
   "id": "1c385fe4",
   "metadata": {},
   "outputs": [
    {
     "data": {
      "text/plain": [
       "torch.Size([1, 8, 4, 4])"
      ]
     },
     "execution_count": 30,
     "metadata": {},
     "output_type": "execute_result"
    }
   ],
   "source": [
    "d_k = q.size()[-1]\n",
    "scaled = torch.matmul(q,k.transpose(-2,-1))/math.sqrt(d_k)\n",
    "scaled.shape"
   ]
  },
  {
   "cell_type": "code",
   "execution_count": 35,
   "id": "ce890f73",
   "metadata": {},
   "outputs": [
    {
     "data": {
      "text/plain": [
       "tensor([[[[0., -inf, -inf, -inf],\n",
       "          [0., 0., -inf, -inf],\n",
       "          [0., 0., 0., -inf],\n",
       "          [0., 0., 0., 0.]],\n",
       "\n",
       "         [[0., -inf, -inf, -inf],\n",
       "          [0., 0., -inf, -inf],\n",
       "          [0., 0., 0., -inf],\n",
       "          [0., 0., 0., 0.]],\n",
       "\n",
       "         [[0., -inf, -inf, -inf],\n",
       "          [0., 0., -inf, -inf],\n",
       "          [0., 0., 0., -inf],\n",
       "          [0., 0., 0., 0.]],\n",
       "\n",
       "         [[0., -inf, -inf, -inf],\n",
       "          [0., 0., -inf, -inf],\n",
       "          [0., 0., 0., -inf],\n",
       "          [0., 0., 0., 0.]],\n",
       "\n",
       "         [[0., -inf, -inf, -inf],\n",
       "          [0., 0., -inf, -inf],\n",
       "          [0., 0., 0., -inf],\n",
       "          [0., 0., 0., 0.]],\n",
       "\n",
       "         [[0., -inf, -inf, -inf],\n",
       "          [0., 0., -inf, -inf],\n",
       "          [0., 0., 0., -inf],\n",
       "          [0., 0., 0., 0.]],\n",
       "\n",
       "         [[0., -inf, -inf, -inf],\n",
       "          [0., 0., -inf, -inf],\n",
       "          [0., 0., 0., -inf],\n",
       "          [0., 0., 0., 0.]],\n",
       "\n",
       "         [[0., -inf, -inf, -inf],\n",
       "          [0., 0., -inf, -inf],\n",
       "          [0., 0., 0., -inf],\n",
       "          [0., 0., 0., 0.]]]])"
      ]
     },
     "execution_count": 35,
     "metadata": {},
     "output_type": "execute_result"
    }
   ],
   "source": [
    "mask = torch.full(scaled.size(),float('-inf'))\n",
    "mask = torch.triu(mask,diagonal=1)\n",
    "mask"
   ]
  },
  {
   "cell_type": "code",
   "execution_count": 39,
   "id": "809e7abb",
   "metadata": {},
   "outputs": [],
   "source": [
    "attention = F.softmax(scaled+mask,dim=-1)"
   ]
  },
  {
   "cell_type": "code",
   "execution_count": 41,
   "id": "c141314c",
   "metadata": {},
   "outputs": [
    {
     "data": {
      "text/plain": [
       "torch.Size([1, 8, 4, 64])"
      ]
     },
     "execution_count": 41,
     "metadata": {},
     "output_type": "execute_result"
    }
   ],
   "source": [
    "value = torch.matmul(attention,v)\n",
    "value.shape"
   ]
  },
  {
   "cell_type": "markdown",
   "id": "2353a626",
   "metadata": {},
   "source": [
    "<h1>Multi Head Attention</h1>"
   ]
  },
  {
   "cell_type": "code",
   "execution_count": 60,
   "id": "43224c85",
   "metadata": {},
   "outputs": [],
   "source": [
    "def scaled_dot_product(q,k,v,mask=None):\n",
    "    d_k = q.size()[-1]\n",
    "    scaled = torch.matmul(q,k.transpose(-2,-1))/math.sqrt(d_k)\n",
    "    if mask is not None:\n",
    "        scaled+=mask\n",
    "    attention = F.softmax(scaled,dim=-1)\n",
    "    values = torch.matmul(attention,v)\n",
    "    return values,attention\n",
    "    \n",
    "\n",
    "class multiheadAttention(nn.Module):\n",
    "\n",
    "    def __init__(self,input_dim,d_model,num_heads):\n",
    "        super().__init__()\n",
    "        self.input_dim = input_dim\n",
    "        self.d_model = d_model\n",
    "        self.num_heads = num_heads\n",
    "        self.head_dims = d_model//num_heads\n",
    "        self.qkv_layer = nn.Linear(input_dim,3*d_model)\n",
    "        self.liner_layer = nn.Linear(d_model,d_model)\n",
    "\n",
    "    \n",
    "    def forward(self,x,mask=None):\n",
    "        batch_size,seq_len,input_dim=x.size()    \n",
    "        qkv = self.qkv_layer(x)\n",
    "        qkv = qkv.reshape(batch_size,seq_len,num_heads,3*head_dim)\n",
    "        qkv = qkv.permute(0,2,1,3)\n",
    "        q,k,v = qkv.chunk(3,dim=-1)\n",
    "        values,attention = scaled_dot_product(q,k,v,mask)\n",
    "        values = values.reshape(batch_size,seq_len,self.head_dims*self.num_heads)\n",
    "        out = self.liner_layer(values)\n",
    "        return out\n",
    "        \n"
   ]
  },
  {
   "cell_type": "code",
   "execution_count": 61,
   "id": "2fcda793",
   "metadata": {},
   "outputs": [],
   "source": [
    "batch_size=30\n",
    "seq_len=5\n",
    "x = torch.randn((batch_size,seq_len,input_dim))\n",
    "model = multiheadAttention(input_dim,512,8)\n",
    "out = model.forward(x)"
   ]
  },
  {
   "cell_type": "code",
   "execution_count": 62,
   "id": "45e2bc92",
   "metadata": {},
   "outputs": [
    {
     "data": {
      "text/plain": [
       "torch.Size([30, 5, 512])"
      ]
     },
     "execution_count": 62,
     "metadata": {},
     "output_type": "execute_result"
    }
   ],
   "source": [
    "out.shape"
   ]
  },
  {
   "cell_type": "markdown",
   "id": "1d18b457",
   "metadata": {},
   "source": [
    "<h1>Positonal encodidng</h1>>"
   ]
  },
  {
   "cell_type": "code",
   "execution_count": 63,
   "id": "550b9364",
   "metadata": {},
   "outputs": [],
   "source": [
    "import torch \n",
    "import torch.nn as nn\n",
    "\n",
    "max_seq_len=10\n",
    "d_model = 512"
   ]
  },
  {
   "cell_type": "code",
   "execution_count": 69,
   "id": "0241654f",
   "metadata": {},
   "outputs": [
    {
     "data": {
      "text/plain": [
       "tensor(10.)"
      ]
     },
     "execution_count": 69,
     "metadata": {},
     "output_type": "execute_result"
    }
   ],
   "source": [
    "x[0][1][2] = 10\n",
    "x[0][1][2]"
   ]
  },
  {
   "cell_type": "code",
   "execution_count": 65,
   "id": "c2f56689",
   "metadata": {},
   "outputs": [],
   "source": [
    "x = torch.randn((1,max_seq_len,d_model))"
   ]
  },
  {
   "cell_type": "code",
   "execution_count": 70,
   "id": "b9d7dcfe",
   "metadata": {},
   "outputs": [],
   "source": [
    "for pos in range(max_seq_len):\n",
    "    for i in range(0,d_model,2):\n",
    "        x[0][pos][i] = math.sin(pos/10000**(i/d_model))\n",
    "    for i in range(1,d_model,2):    \n",
    "        x[0][pos][i] = math.cos(pos/10000**(i/d_model))"
   ]
  },
  {
   "cell_type": "code",
   "execution_count": 71,
   "id": "11b5dfeb",
   "metadata": {},
   "outputs": [
    {
     "data": {
      "text/plain": [
       "tensor([[[ 0.0000e+00,  1.0000e+00,  0.0000e+00,  ...,  1.0000e+00,\n",
       "           0.0000e+00,  1.0000e+00],\n",
       "         [ 8.4147e-01,  5.5522e-01,  8.2186e-01,  ...,  1.0000e+00,\n",
       "           1.0366e-04,  1.0000e+00],\n",
       "         [ 9.0930e-01, -3.8347e-01,  9.3641e-01,  ...,  1.0000e+00,\n",
       "           2.0733e-04,  1.0000e+00],\n",
       "         ...,\n",
       "         [ 6.5699e-01,  8.2982e-01,  4.5239e-01,  ...,  1.0000e+00,\n",
       "           7.2564e-04,  1.0000e+00],\n",
       "         [ 9.8936e-01, -3.3935e-03,  9.9067e-01,  ...,  1.0000e+00,\n",
       "           8.2931e-04,  1.0000e+00],\n",
       "         [ 4.1212e-01, -8.3358e-01,  6.7637e-01,  ...,  1.0000e+00,\n",
       "           9.3297e-04,  1.0000e+00]]])"
      ]
     },
     "execution_count": 71,
     "metadata": {},
     "output_type": "execute_result"
    }
   ],
   "source": [
    "x"
   ]
  },
  {
   "cell_type": "code",
   "execution_count": 77,
   "id": "c186346f",
   "metadata": {},
   "outputs": [],
   "source": [
    "def postional_encoding(max_seq_len,d_model):\n",
    "    even_i = torch.arange(0,d_model,2).float()\n",
    "    denom = torch.pow(10000,even_i/d_model)\n",
    "    pos = torch.arange(max_seq_len).reshape(-1,1)\n",
    "    even_pe = torch.sin(pos/denom)\n",
    "    odd_pe = torch.cos(pos/denom)\n",
    "    stacked = torch.stack([even_pe,odd_pe],dim=2)\n",
    "    PE = torch.flatten(stacked,start_dim=1,end_dim=2)\n",
    "    return PE"
   ]
  },
  {
   "cell_type": "code",
   "execution_count": 78,
   "id": "a884c01e",
   "metadata": {},
   "outputs": [
    {
     "data": {
      "text/plain": [
       "tensor([[ 0.0000e+00,  1.0000e+00,  0.0000e+00,  ...,  1.0000e+00,\n",
       "          0.0000e+00,  1.0000e+00],\n",
       "        [ 8.4147e-01,  5.4030e-01,  8.2186e-01,  ...,  1.0000e+00,\n",
       "          1.0366e-04,  1.0000e+00],\n",
       "        [ 9.0930e-01, -4.1615e-01,  9.3641e-01,  ...,  1.0000e+00,\n",
       "          2.0733e-04,  1.0000e+00],\n",
       "        ...,\n",
       "        [ 6.5699e-01,  7.5390e-01,  4.5239e-01,  ...,  1.0000e+00,\n",
       "          7.2564e-04,  1.0000e+00],\n",
       "        [ 9.8936e-01, -1.4550e-01,  9.9067e-01,  ...,  1.0000e+00,\n",
       "          8.2931e-04,  1.0000e+00],\n",
       "        [ 4.1212e-01, -9.1113e-01,  6.7637e-01,  ...,  1.0000e+00,\n",
       "          9.3297e-04,  1.0000e+00]])"
      ]
     },
     "execution_count": 78,
     "metadata": {},
     "output_type": "execute_result"
    }
   ],
   "source": [
    "postional_encoding(max_seq_len,d_model)"
   ]
  },
  {
   "cell_type": "markdown",
   "id": "c1cbf9e8",
   "metadata": {},
   "source": [
    "<h1>layer normalization</h1>"
   ]
  },
  {
   "cell_type": "code",
   "execution_count": null,
   "id": "d5a921e0",
   "metadata": {},
   "outputs": [],
   "source": []
  },
  {
   "cell_type": "code",
   "execution_count": null,
   "id": "7ea898ca",
   "metadata": {},
   "outputs": [],
   "source": []
  }
 ],
 "metadata": {
  "kernelspec": {
   "display_name": "venv",
   "language": "python",
   "name": "python3"
  },
  "language_info": {
   "codemirror_mode": {
    "name": "ipython",
    "version": 3
   },
   "file_extension": ".py",
   "mimetype": "text/x-python",
   "name": "python",
   "nbconvert_exporter": "python",
   "pygments_lexer": "ipython3",
   "version": "3.12.3"
  }
 },
 "nbformat": 4,
 "nbformat_minor": 5
}
