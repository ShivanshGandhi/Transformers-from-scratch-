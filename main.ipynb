{
 "cells": [
  {
   "cell_type": "markdown",
   "id": "fdf053ac",
   "metadata": {},
   "source": [
    "Scaled Dot product atention"
   ]
  },
  {
   "cell_type": "code",
   "execution_count": 130,
   "id": "d9a83686",
   "metadata": {},
   "outputs": [],
   "source": [
    "import numpy as np\n",
    "import math\n",
    "import torch\n",
    "import torch.nn as nn\n",
    "import torch.nn.functional as F"
   ]
  },
  {
   "cell_type": "code",
   "execution_count": 131,
   "id": "99c349da",
   "metadata": {},
   "outputs": [],
   "source": [
    "seq_len = 4\n",
    "batch_size = 1\n",
    "input_dim = 512\n",
    "d_model = 512\n",
    "x = torch.randn((batch_size,seq_len,input_dim))"
   ]
  },
  {
   "cell_type": "code",
   "execution_count": 132,
   "id": "b336424e",
   "metadata": {},
   "outputs": [
    {
     "data": {
      "text/plain": [
       "torch.Size([1, 4, 512])"
      ]
     },
     "execution_count": 132,
     "metadata": {},
     "output_type": "execute_result"
    }
   ],
   "source": [
    "x.shape"
   ]
  },
  {
   "cell_type": "code",
   "execution_count": 133,
   "id": "55c293a6",
   "metadata": {},
   "outputs": [],
   "source": [
    "qkv_layer = nn.Linear(input_dim,3*d_model)"
   ]
  },
  {
   "cell_type": "code",
   "execution_count": 134,
   "id": "5c9742fd",
   "metadata": {},
   "outputs": [],
   "source": [
    "qkv = qkv_layer(x)"
   ]
  },
  {
   "cell_type": "code",
   "execution_count": 135,
   "id": "bd6a7b08",
   "metadata": {},
   "outputs": [],
   "source": [
    "num_heads = 8\n",
    "head_dim = d_model//num_heads\n",
    "qkv = qkv.reshape(batch_size,seq_len,num_heads,3*head_dim)"
   ]
  },
  {
   "cell_type": "code",
   "execution_count": 136,
   "id": "8c0d44b8",
   "metadata": {},
   "outputs": [
    {
     "data": {
      "text/plain": [
       "torch.Size([1, 8, 4, 192])"
      ]
     },
     "execution_count": 136,
     "metadata": {},
     "output_type": "execute_result"
    }
   ],
   "source": [
    "qkv = qkv.permute(0,2,1,3)\n",
    "qkv.shape"
   ]
  },
  {
   "cell_type": "code",
   "execution_count": 137,
   "id": "b9154963",
   "metadata": {},
   "outputs": [],
   "source": [
    "q, k,v = qkv.chunk(3,dim=-1)"
   ]
  },
  {
   "cell_type": "code",
   "execution_count": 138,
   "id": "1c385fe4",
   "metadata": {},
   "outputs": [
    {
     "data": {
      "text/plain": [
       "torch.Size([1, 8, 4, 4])"
      ]
     },
     "execution_count": 138,
     "metadata": {},
     "output_type": "execute_result"
    }
   ],
   "source": [
    "d_k = q.size()[-1]\n",
    "scaled = torch.matmul(q,k.transpose(-2,-1))/math.sqrt(d_k)\n",
    "scaled.shape"
   ]
  },
  {
   "cell_type": "code",
   "execution_count": 139,
   "id": "ce890f73",
   "metadata": {},
   "outputs": [
    {
     "data": {
      "text/plain": [
       "tensor([[[[0., -inf, -inf, -inf],\n",
       "          [0., 0., -inf, -inf],\n",
       "          [0., 0., 0., -inf],\n",
       "          [0., 0., 0., 0.]],\n",
       "\n",
       "         [[0., -inf, -inf, -inf],\n",
       "          [0., 0., -inf, -inf],\n",
       "          [0., 0., 0., -inf],\n",
       "          [0., 0., 0., 0.]],\n",
       "\n",
       "         [[0., -inf, -inf, -inf],\n",
       "          [0., 0., -inf, -inf],\n",
       "          [0., 0., 0., -inf],\n",
       "          [0., 0., 0., 0.]],\n",
       "\n",
       "         [[0., -inf, -inf, -inf],\n",
       "          [0., 0., -inf, -inf],\n",
       "          [0., 0., 0., -inf],\n",
       "          [0., 0., 0., 0.]],\n",
       "\n",
       "         [[0., -inf, -inf, -inf],\n",
       "          [0., 0., -inf, -inf],\n",
       "          [0., 0., 0., -inf],\n",
       "          [0., 0., 0., 0.]],\n",
       "\n",
       "         [[0., -inf, -inf, -inf],\n",
       "          [0., 0., -inf, -inf],\n",
       "          [0., 0., 0., -inf],\n",
       "          [0., 0., 0., 0.]],\n",
       "\n",
       "         [[0., -inf, -inf, -inf],\n",
       "          [0., 0., -inf, -inf],\n",
       "          [0., 0., 0., -inf],\n",
       "          [0., 0., 0., 0.]],\n",
       "\n",
       "         [[0., -inf, -inf, -inf],\n",
       "          [0., 0., -inf, -inf],\n",
       "          [0., 0., 0., -inf],\n",
       "          [0., 0., 0., 0.]]]])"
      ]
     },
     "execution_count": 139,
     "metadata": {},
     "output_type": "execute_result"
    }
   ],
   "source": [
    "mask = torch.full(scaled.size(),float('-inf'))\n",
    "mask = torch.triu(mask,diagonal=1)\n",
    "mask"
   ]
  },
  {
   "cell_type": "code",
   "execution_count": 140,
   "id": "809e7abb",
   "metadata": {},
   "outputs": [],
   "source": [
    "attention = F.softmax(scaled+mask,dim=-1)"
   ]
  },
  {
   "cell_type": "code",
   "execution_count": 141,
   "id": "c141314c",
   "metadata": {},
   "outputs": [
    {
     "data": {
      "text/plain": [
       "torch.Size([1, 8, 4, 64])"
      ]
     },
     "execution_count": 141,
     "metadata": {},
     "output_type": "execute_result"
    }
   ],
   "source": [
    "value = torch.matmul(attention,v)\n",
    "value.shape"
   ]
  },
  {
   "cell_type": "markdown",
   "id": "2353a626",
   "metadata": {},
   "source": [
    "<h1>Multi Head Attention</h1>"
   ]
  },
  {
   "cell_type": "code",
   "execution_count": 142,
   "id": "43224c85",
   "metadata": {},
   "outputs": [],
   "source": [
    "def scaled_dot_product(q,k,v,mask=None):\n",
    "    d_k = q.size()[-1]\n",
    "    scaled = torch.matmul(q,k.transpose(-2,-1))/math.sqrt(d_k)\n",
    "    if mask is not None:\n",
    "        scaled+=mask\n",
    "    attention = F.softmax(scaled,dim=-1)\n",
    "    values = torch.matmul(attention,v)\n",
    "    return values,attention\n",
    "    \n",
    "\n",
    "class multiheadAttention(nn.Module):\n",
    "\n",
    "    def __init__(self,d_model,num_heads):\n",
    "        super().__init__()\n",
    "        self.d_model = d_model\n",
    "        self.num_heads = num_heads\n",
    "        self.head_dims = d_model//num_heads\n",
    "        self.qkv_layer = nn.Linear(d_model,3*d_model)\n",
    "        self.liner_layer = nn.Linear(d_model,d_model)\n",
    "\n",
    "    \n",
    "    def forward(self,x,mask=None):\n",
    "        batch_size,seq_len,_=x.size()    \n",
    "        qkv = self.qkv_layer(x)\n",
    "        qkv = qkv.reshape(batch_size,seq_len,self.num_heads,3*self.head_dims)\n",
    "        qkv = qkv.permute(0,2,1,3)\n",
    "        q,k,v = qkv.chunk(3,dim=-1)\n",
    "        values,attention = scaled_dot_product(q,k,v,mask)\n",
    "        values = values.transpose(1, 2).contiguous().view(batch_size, seq_len, self.d_model)\n",
    "        out = self.liner_layer(values)\n",
    "        return out\n",
    "        \n"
   ]
  },
  {
   "cell_type": "code",
   "execution_count": 143,
   "id": "2fcda793",
   "metadata": {},
   "outputs": [],
   "source": [
    "batch_size=30\n",
    "seq_len=5\n",
    "x = torch.randn((batch_size,seq_len,input_dim))\n",
    "model = multiheadAttention(512,8)\n",
    "out = model.forward(x)"
   ]
  },
  {
   "cell_type": "code",
   "execution_count": 144,
   "id": "45e2bc92",
   "metadata": {},
   "outputs": [
    {
     "data": {
      "text/plain": [
       "torch.Size([30, 5, 512])"
      ]
     },
     "execution_count": 144,
     "metadata": {},
     "output_type": "execute_result"
    }
   ],
   "source": [
    "out.shape"
   ]
  },
  {
   "cell_type": "markdown",
   "id": "1d18b457",
   "metadata": {},
   "source": [
    "<h1>Positonal encodidng</h1>>"
   ]
  },
  {
   "cell_type": "code",
   "execution_count": 145,
   "id": "550b9364",
   "metadata": {},
   "outputs": [],
   "source": [
    "import torch \n",
    "import torch.nn as nn\n",
    "\n",
    "max_seq_len=10\n",
    "d_model = 512"
   ]
  },
  {
   "cell_type": "code",
   "execution_count": 146,
   "id": "c186346f",
   "metadata": {},
   "outputs": [],
   "source": [
    "class PositionalEncoding(nn.Module):\n",
    "    def __init__(self, d_model: int, max_seq_len: int = 5000, dropout: float = 0.1):\n",
    "        super().__init__()\n",
    "        self.dropout = nn.Dropout(p=dropout)\n",
    "        position = torch.arange(max_seq_len).unsqueeze(1)\n",
    "        div_term = torch.exp(torch.arange(0, d_model, 2) * (-math.log(10000.0) / d_model))\n",
    "        pe = torch.zeros(1, max_seq_len, d_model)\n",
    "        pe[0, :, 0::2] = torch.sin(position * div_term)\n",
    "        pe[0, :, 1::2] = torch.cos(position * div_term)\n",
    "        self.register_buffer('pe', pe)\n",
    "\n",
    "    def forward(self, x: torch.Tensor) -> torch.Tensor:\n",
    "        x = x + self.pe[:, :x.size(1), :]\n",
    "        return self.dropout(x)"
   ]
  },
  {
   "cell_type": "markdown",
   "id": "c1cbf9e8",
   "metadata": {},
   "source": [
    "<h1>Pointwise feedforward network</h1>"
   ]
  },
  {
   "cell_type": "code",
   "execution_count": 147,
   "id": "d5a921e0",
   "metadata": {},
   "outputs": [],
   "source": [
    "class PointwiseFeedForward(nn.Module):\n",
    "    def __init__(self,d_in,dff):\n",
    "        super().__init__()\n",
    "        self.din = d_in\n",
    "        self.dff = dff\n",
    "        self.linear1 = nn.Linear(d_in,dff)\n",
    "        self.linear2 = nn.Linear(dff,d_in)\n",
    "        self.relu = nn.ReLU()\n",
    "\n",
    "    def forward(self,x):\n",
    "        x = self.linear1(x)\n",
    "        x = self.relu(x)\n",
    "        x = self.linear2(x)\n",
    "        return x\n"
   ]
  },
  {
   "cell_type": "markdown",
   "id": "320450e6",
   "metadata": {},
   "source": [
    "<h1>Encoder Layer</h1>"
   ]
  },
  {
   "cell_type": "code",
   "execution_count": 148,
   "id": "e4227ee9",
   "metadata": {},
   "outputs": [],
   "source": [
    "class encoderLayer(nn.Module):\n",
    "    def __init__(self, d_model,num_heads,d_ff,):\n",
    "        super().__init__()\n",
    "        self.attention = multiheadAttention(d_model,num_heads)\n",
    "        self.feedForward = PointwiseFeedForward(d_model,d_ff)\n",
    "        self.layerNorm1 = nn.LayerNorm(d_model)\n",
    "        self.layerNorm2 = nn.LayerNorm(d_model)\n",
    "\n",
    "    def forward(self,x,mask=None):\n",
    "        attention_out = self.attention(x)\n",
    "        x = self.layerNorm1(x+attention_out)\n",
    "        feedforward = self.feedForward(x)\n",
    "        x = self.layerNorm2(feedforward+x)\n",
    "        return x\n",
    "\n",
    " "
   ]
  },
  {
   "cell_type": "markdown",
   "id": "0bf02c7d",
   "metadata": {},
   "source": [
    "<h1>Complete encoder with stacking"
   ]
  },
  {
   "cell_type": "code",
   "execution_count": 149,
   "id": "7ea898ca",
   "metadata": {},
   "outputs": [],
   "source": [
    "class Encoder(nn.Module):\n",
    "    def __init__(self, num_layer,d_model,num_heads,d_ff,input_vocab_size,max_seq_len,dropout):\n",
    "        super().__init__()\n",
    "        self.d_model = d_model\n",
    "        self.num_layer = num_layer\n",
    "        self.num_heads = num_heads\n",
    "        self.d_ff = d_ff\n",
    "        self.input_vocab_size = input_vocab_size\n",
    "        self.max_seq_len = max_seq_len\n",
    "        self.dropout = dropout\n",
    "        self.embedding = nn.Embedding(self.input_vocab_size,self.d_model)\n",
    "        self.pos = PositionalEncoding(self.d_model,self.max_seq_len,self.dropout)\n",
    "        self.layers = nn.ModuleList([encoderLayer(self.d_model,self.num_heads,self.d_ff) for _ in range(self.num_layer)])\n",
    "        self.norm = nn.LayerNorm(self.d_model)\n",
    "\n",
    "    def forward(self,x):\n",
    "        x = self.embedding(x)*math.sqrt(self.d_model)\n",
    "        x = self.pos(x)\n",
    "        for layer in self.layers:\n",
    "            x = layer(x)\n",
    "\n",
    "        return self.norm(x)\n"
   ]
  },
  {
   "cell_type": "markdown",
   "id": "2a962532",
   "metadata": {},
   "source": [
    "<h1>Decoder Stack"
   ]
  },
  {
   "cell_type": "code",
   "execution_count": 150,
   "id": "3df6eec0",
   "metadata": {},
   "outputs": [],
   "source": [
    "class CrossMultiHeadAttention(nn.Module):\n",
    "    def __init__(self, d_model, num_heads, dropout=0.1):\n",
    "        super().__init__()\n",
    "        self.d_model = d_model\n",
    "        self.num_heads = num_heads\n",
    "        self.head_dims = d_model // num_heads\n",
    "\n",
    "        # --- Key Change Here ---\n",
    "        # Layer for Query (from decoder)\n",
    "        self.w_q = nn.Linear(d_model, d_model)\n",
    "        # Layers for Key and Value (from encoder)\n",
    "        self.w_k = nn.Linear(d_model, d_model)\n",
    "        self.w_v = nn.Linear(d_model, d_model)\n",
    "\n",
    "        # Final output layer\n",
    "        self.linear_layer = nn.Linear(d_model, d_model)\n",
    "        self.dropout = nn.Dropout(dropout)\n",
    "\n",
    "    def forward(self, y, x, mask=None):\n",
    "        # y is the query source (from decoder), x is the key/value source (from encoder)\n",
    "        batch_size = y.size(0)\n",
    "        seq_len_q = y.size(1)\n",
    "        seq_len_kv = x.size(1)\n",
    "\n",
    "        # 1. Project Query, Key, Value\n",
    "        # Note: q comes from y, k and v come from x\n",
    "        q = self.w_q(y)\n",
    "        k = self.w_k(x)\n",
    "        v = self.w_v(x)\n",
    "\n",
    "        # 2. Split into heads\n",
    "        q = q.reshape(batch_size, seq_len_q, self.num_heads, self.head_dims).permute(0, 2, 1, 3)\n",
    "        k = k.reshape(batch_size, seq_len_kv, self.num_heads, self.head_dims).permute(0, 2, 1, 3)\n",
    "        v = v.reshape(batch_size, seq_len_kv, self.num_heads, self.head_dims).permute(0, 2, 1, 3)\n",
    "\n",
    "        # 3. Apply attention\n",
    "        values, attention = scaled_dot_product(q, k, v, mask)\n",
    "\n",
    "        # 4. Combine heads and pass through final linear layer\n",
    "        values = values.transpose(1, 2).contiguous().view(batch_size, seq_len_q, self.d_model)\n",
    "        out = self.linear_layer(values)\n",
    "        out = self.dropout(out)\n",
    "\n",
    "        return out\n",
    "        "
   ]
  },
  {
   "cell_type": "code",
   "execution_count": 151,
   "id": "817238f5",
   "metadata": {},
   "outputs": [],
   "source": [
    "class DecoderLayer(nn.Module):\n",
    "    \"\"\"A single layer of the Transformer Decoder.\"\"\"\n",
    "    def __init__(self, d_model, ffn_hidden, num_heads, drop_prob):\n",
    "        super().__init__()\n",
    "        self.self_attention = multiheadAttention(d_model=d_model, num_heads=num_heads)\n",
    "        self.norm1 = nn.LayerNorm(d_model)\n",
    "        self.dropout1 = nn.Dropout(p=drop_prob)\n",
    "\n",
    "        self.cross_attention = CrossMultiHeadAttention(d_model=d_model, num_heads=num_heads)\n",
    "        self.norm2 = nn.LayerNorm(d_model)\n",
    "        self.dropout2 = nn.Dropout(p=drop_prob)\n",
    "\n",
    "        self.ffn = PointwiseFeedForward(d_in=d_model,dff=ffn_hidden)\n",
    "        self.norm3 = nn.LayerNorm(d_model)\n",
    "        self.dropout3 = nn.Dropout(p=drop_prob)\n",
    "\n",
    "    def forward(self, x, y, self_attention_mask, cross_attention_mask):\n",
    "        # x is from encoder, y is from previous decoder layer\n",
    "        residual_y = y\n",
    "        y = self.self_attention(y, mask=self_attention_mask)\n",
    "        y = self.dropout1(y)\n",
    "        y = self.norm1(y + residual_y)\n",
    "\n",
    "        residual_y = y\n",
    "        y = self.cross_attention(x, y, mask=cross_attention_mask)\n",
    "        y = self.dropout2(y)\n",
    "        y = self.norm2(y + residual_y)\n",
    "\n",
    "        residual_y = y\n",
    "        y = self.ffn(y)\n",
    "        y = self.dropout3(y)\n",
    "        y = self.norm3(y + residual_y)\n",
    "        return y\n"
   ]
  },
  {
   "cell_type": "code",
   "execution_count": 152,
   "id": "3f415ff9",
   "metadata": {},
   "outputs": [],
   "source": [
    "class Decoder(nn.Module):\n",
    "    \"\"\"The full Decoder stack.\"\"\"\n",
    "    def __init__(self, d_model, ffn_hidden, num_heads, drop_prob, num_layers, vocab_size, max_len):\n",
    "        super().__init__()\n",
    "        self.embedding = nn.Embedding(vocab_size, d_model)\n",
    "        self.positional_encoding = PositionalEncoding(d_model, max_len, drop_prob)\n",
    "        self.layers = nn.ModuleList([DecoderLayer(d_model, ffn_hidden, num_heads, drop_prob) for _ in range(num_layers)])\n",
    "        self.d_model = d_model\n",
    "        \n",
    "    def forward(self, x, y, self_attention_mask, cross_attention_mask):\n",
    "        y = self.embedding(y) * math.sqrt(self.d_model)\n",
    "        y = self.positional_encoding(y)\n",
    "        for layer in self.layers:\n",
    "            y = layer(x, y, self_attention_mask, cross_attention_mask)\n",
    "        return y"
   ]
  },
  {
   "cell_type": "code",
   "execution_count": 163,
   "id": "3f218649",
   "metadata": {},
   "outputs": [],
   "source": [
    "class Transformer(nn.Module):\n",
    "    def __init__(self, d_model, ffn_hidden, num_heads,  num_layers, max_len,\n",
    "                 src_vocab_size, tgt_vocab_size, src_pad_idx, tgt_pad_idx, device,drop_prob=0.1,):\n",
    "        super().__init__()\n",
    "        self.encoder = Encoder(d_model=d_model,num_heads=num_heads,num_layer=num_layers,input_vocab_size=src_vocab_size,dropout=drop_prob,max_seq_len=max_len,d_ff=ffn_hidden)\n",
    "        self.decoder = Decoder(d_model, ffn_hidden, num_heads, drop_prob, num_layers, tgt_vocab_size, max_len)\n",
    "        self.linear = nn.Linear(d_model, tgt_vocab_size)\n",
    "        self.device = device\n",
    "        self.src_pad_idx = src_pad_idx\n",
    "        self.tgt_pad_idx = tgt_pad_idx\n",
    "\n",
    "    def make_src_mask(self, src):\n",
    "        # src shape: (batch_size, src_len)\n",
    "        # mask shape: (batch_size, 1, 1, src_len)\n",
    "        src_mask = (src != self.src_pad_idx).unsqueeze(1).unsqueeze(2)\n",
    "        return src_mask.to(self.device)\n",
    "\n",
    "    def make_tgt_mask(self, tgt):\n",
    "        # tgt shape: (batch_size, tgt_len)\n",
    "        tgt_len = tgt.shape[1]\n",
    "        # Padding mask shape: (batch_size, 1, 1, tgt_len)\n",
    "        tgt_pad_mask = (tgt != self.tgt_pad_idx).unsqueeze(1).unsqueeze(2)\n",
    "        # Look-ahead mask shape: (1, 1, tgt_len, tgt_len)\n",
    "        tgt_lookahead_mask = torch.tril(torch.ones((tgt_len, tgt_len), device=self.device)).bool()\n",
    "        # Combined mask\n",
    "        tgt_mask = tgt_pad_mask & tgt_lookahead_mask\n",
    "        return tgt_mask.to(self.device)\n",
    "\n",
    "    def forward(self, src, tgt):\n",
    "        src_mask = self.make_src_mask(src)\n",
    "        tgt_mask = self.make_tgt_mask(tgt)\n",
    "        \n",
    "        enc_src = self.encoder(src)\n",
    "        dec_output = self.decoder(enc_src, tgt, tgt_mask, src_mask)\n",
    "        \n",
    "        output = self.linear(dec_output)\n",
    "        return output"
   ]
  },
  {
   "cell_type": "code",
   "execution_count": null,
   "id": "3445d9c1",
   "metadata": {},
   "outputs": [],
   "source": [
    "def get_device():\n",
    "    return torch.device('cuda') if torch.cuda.is_available() else torch.device('cpu')"
   ]
  },
  {
   "cell_type": "code",
   "execution_count": 155,
   "id": "3436e71e",
   "metadata": {},
   "outputs": [
    {
     "data": {
      "text/plain": [
       "device(type='cuda')"
      ]
     },
     "execution_count": 155,
     "metadata": {},
     "output_type": "execute_result"
    }
   ],
   "source": [
    "get_device()"
   ]
  },
  {
   "cell_type": "code",
   "execution_count": 162,
   "id": "b9b2dc20",
   "metadata": {},
   "outputs": [
    {
     "name": "stdout",
     "output_type": "stream",
     "text": [
      "Shape of final Transformer output: torch.Size([32, 60, 10000])\n",
      "\n",
      "Successfully built and tested the complete Transformer model!\n"
     ]
    }
   ],
   "source": [
    "if __name__ == '__main__':\n",
    "    device = 'cpu'\n",
    "    \n",
    "    # Model parameters\n",
    "    d_model = 512\n",
    "    num_heads = 8\n",
    "    num_layers = 8\n",
    "    d_ff = 2048\n",
    "    max_len = 100\n",
    "    dropout = 0.1\n",
    "    src_vocab_size = 10000\n",
    "    tgt_vocab_size = 10000\n",
    "    src_pad_idx = 0\n",
    "    tgt_pad_idx = 0\n",
    "\n",
    "    # Instantiate the model\n",
    "    model = Transformer(\n",
    "        d_model=d_model,\n",
    "        ffn_hidden=d_ff,\n",
    "        num_heads=num_heads,\n",
    "        num_layers=num_layers,\n",
    "        max_len=max_len,\n",
    "        src_vocab_size=src_vocab_size,\n",
    "        tgt_vocab_size=tgt_vocab_size,\n",
    "        src_pad_idx=src_pad_idx,\n",
    "        tgt_pad_idx=tgt_pad_idx,\n",
    "        device=device\n",
    "    ).to(device)\n",
    "\n",
    "    # Create dummy data\n",
    "    batch_size = 32\n",
    "    src_len = 60\n",
    "    tgt_len = 60\n",
    "    \n",
    "    src = torch.randint(1, src_vocab_size, (batch_size, src_len)).to(device)\n",
    "    tgt = torch.randint(1, tgt_vocab_size, (batch_size, tgt_len)).to(device)\n",
    "    \n",
    "    # Add some padding\n",
    "    src[0, -15:] = src_pad_idx\n",
    "    tgt[0, -10:] = tgt_pad_idx\n",
    "\n",
    "    # Forward pass\n",
    "    output = model(src, tgt)\n",
    "\n",
    "    print(\"Shape of final Transformer output:\", output.shape)\n",
    "    assert output.shape == (batch_size, tgt_len, tgt_vocab_size)\n",
    "    print(\"\\nSuccessfully built and tested the complete Transformer model!\")"
   ]
  },
  {
   "cell_type": "code",
   "execution_count": null,
   "id": "e793bbd8",
   "metadata": {},
   "outputs": [],
   "source": []
  }
 ],
 "metadata": {
  "kernelspec": {
   "display_name": "venv",
   "language": "python",
   "name": "python3"
  },
  "language_info": {
   "codemirror_mode": {
    "name": "ipython",
    "version": 3
   },
   "file_extension": ".py",
   "mimetype": "text/x-python",
   "name": "python",
   "nbconvert_exporter": "python",
   "pygments_lexer": "ipython3",
   "version": "3.12.3"
  }
 },
 "nbformat": 4,
 "nbformat_minor": 5
}
